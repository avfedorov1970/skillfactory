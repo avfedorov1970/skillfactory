{
 "cells": [
  {
   "cell_type": "code",
   "execution_count": 1,
   "metadata": {},
   "outputs": [
    {
     "name": "stdout",
     "output_type": "stream",
     "text": [
      "Загадано число от 1 до 100\n",
      "Вы угадали число 45 за 7 попыток\n",
      "Ваш алгоритм угадывает число в среднем за 7 попыток\n"
     ]
    }
   ],
   "source": [
    "# The Game: Find the number with minimum iteration\n",
    "\n",
    "# Setting the borders of search range\n",
    "range_start = 1\n",
    "range_end = 100\n",
    "\n",
    "\n",
    "# Setting the target number by random function\n",
    "import numpy as np\n",
    "target_number = np.random.randint(range_start,range_end + 1) \n",
    "print (f\"Загадано число от {range_start} до {range_end}\")\n",
    "\n",
    "# The variable to save the number of iterations\n",
    "iteration_count=int()\n",
    "\n",
    "\n",
    "def find_function(target_number):\n",
    "    \"\"\" function to find the target number \"\"\"   \n",
    "\n",
    "    iteration_count = 0\n",
    "    left = range_start \n",
    "    right = range_end  \n",
    "    predict = 0\n",
    "    \n",
    "    while predict != target_number:    \n",
    "        \n",
    "        iteration_count += 1       \n",
    "       \n",
    "        predict = (left+right) // 2       \n",
    "\n",
    "        if target_number == predict: break  \n",
    "        \n",
    "        elif target_number > predict: \n",
    "            left = predict +1\n",
    "\n",
    "        elif target_number < predict: \n",
    "            right = predict -1\n",
    "\n",
    "    return(iteration_count)    \n",
    "\n",
    "\n",
    "print (f\"Вы угадали число {target_number} за {find_function(target_number)} попыток\")  \n",
    "\n",
    "\n",
    "def mean_count(iteration_count):\n",
    "    '''Calcualating mean count of iterations through testing \"find_function\" by 1000 times'''\n",
    "\n",
    "    iteration_count_ls = []\n",
    "    np.random.seed(1)\n",
    "    random_array = np.random.randint(1,101, size=(1000))\n",
    "    \n",
    "    for number in random_array:\n",
    "        iteration_count_ls.append(find_function(target_number))\n",
    "    score = int(np.mean(iteration_count_ls))\n",
    "\n",
    "    return(score)\n",
    "\n",
    "\n",
    "print(f\"Ваш алгоритм угадывает число в среднем за {mean_count(iteration_count)} попыток\")"
   ]
  }
 ],
 "metadata": {
  "kernelspec": {
   "display_name": "Python 3",
   "language": "python",
   "name": "python3"
  },
  "language_info": {
   "codemirror_mode": {
    "name": "ipython",
    "version": 3
   },
   "file_extension": ".py",
   "mimetype": "text/x-python",
   "name": "python",
   "nbconvert_exporter": "python",
   "pygments_lexer": "ipython3",
   "version": "3.8.5"
  }
 },
 "nbformat": 4,
 "nbformat_minor": 4
}
